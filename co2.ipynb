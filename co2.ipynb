{
 "cells": [
  {
   "cell_type": "code",
   "execution_count": 2,
   "id": "f543e296",
   "metadata": {},
   "outputs": [],
   "source": [
    "import os\n",
    "import sys\n",
    "from pathlib import Path\n",
    "import numpy as np\n",
    "import pandas as pd\n",
    "import matplotlib.pyplot as plt\n",
    "import seaborn as sns"
   ]
  },
  {
   "cell_type": "code",
   "execution_count": 4,
   "id": "cd92fc12",
   "metadata": {},
   "outputs": [],
   "source": [
    "ROOT = Path(\"third_project\").resolve().parent\n",
    "DATA_DIR = ROOT / \"data\"\n",
    "OUT_DIR = ROOT / \"outputs\"\n",
    "IMG_DIR = OUT_DIR / \"images\"\n",
    "for p in (DATA_DIR, OUT_DIR, IMG_DIR):\n",
    "    p.mkdir(parents=True, exist_ok=True)"
   ]
  },
  {
   "cell_type": "code",
   "execution_count": 5,
   "id": "1e1e42ff",
   "metadata": {},
   "outputs": [],
   "source": [
    "# Our World in Data CO2 CSV (canonical URL)\n",
    "OWID_CSV_URL = \"https://raw.githubusercontent.com/owid/co2-data/master/owid-co2-data.csv\"\n",
    "LOCAL_CSV = DATA_DIR / \"owid-co2-data.csv\"\n"
   ]
  },
  {
   "cell_type": "code",
   "execution_count": 6,
   "id": "b6baf195",
   "metadata": {},
   "outputs": [],
   "source": [
    "# Helper functions\n",
    "def savefig(fig, fname, dpi=150):\n",
    "    path = IMG_DIR / fname\n",
    "    fig.savefig(path, bbox_inches=\"tight\", dpi=dpi)\n",
    "    print(f\"Saved image: {path}\")\n",
    "\n",
    "def ensure_dataset():\n",
    "    \"\"\"Download dataset if not present.\"\"\"\n",
    "    if LOCAL_CSV.exists():\n",
    "        print(f\"Using local dataset: {LOCAL_CSV}\")\n",
    "        return LOCAL_CSV\n",
    "    try:\n",
    "        print(\"Downloading OWID CO2 dataset...\")\n",
    "        df = pd.read_csv(OWID_CSV_URL)\n",
    "        df.to_csv(LOCAL_CSV, index=False)\n",
    "        print(f\"Downloaded and saved to: {LOCAL_CSV}\")\n",
    "        return LOCAL_CSV\n",
    "    except Exception as e:\n",
    "        print(\"ERROR: Could not download dataset automatically.\", e)\n",
    "        sys.exit(1)"
   ]
  },
  {
   "cell_type": "code",
   "execution_count": 7,
   "id": "990d22ec",
   "metadata": {},
   "outputs": [
    {
     "name": "stdout",
     "output_type": "stream",
     "text": [
      "Downloading OWID CO2 dataset...\n",
      "Downloaded and saved to: /Users/karimhasabelnaby/Documents/MkAI_intern/third_project/data/owid-co2-data.csv\n",
      "\n",
      "Columns available (sample):\n",
      "['country', 'year', 'iso_code', 'population', 'gdp', 'cement_co2', 'cement_co2_per_capita', 'co2', 'co2_growth_abs', 'co2_growth_prct', 'co2_including_luc', 'co2_including_luc_growth_abs', 'co2_including_luc_growth_prct', 'co2_including_luc_per_capita', 'co2_including_luc_per_gdp', 'co2_including_luc_per_unit_energy', 'co2_per_capita', 'co2_per_gdp', 'co2_per_unit_energy', 'coal_co2', 'coal_co2_per_capita', 'consumption_co2', 'consumption_co2_per_capita', 'consumption_co2_per_gdp', 'cumulative_cement_co2', 'cumulative_co2', 'cumulative_co2_including_luc', 'cumulative_coal_co2', 'cumulative_flaring_co2', 'cumulative_gas_co2', 'cumulative_luc_co2', 'cumulative_oil_co2', 'cumulative_other_co2', 'energy_per_capita', 'energy_per_gdp', 'flaring_co2', 'flaring_co2_per_capita', 'gas_co2', 'gas_co2_per_capita', 'ghg_excluding_lucf_per_capita', 'ghg_per_capita', 'land_use_change_co2', 'land_use_change_co2_per_capita', 'methane', 'methane_per_capita', 'nitrous_oxide', 'nitrous_oxide_per_capita', 'oil_co2', 'oil_co2_per_capita', 'other_co2_per_capita', 'other_industry_co2', 'primary_energy_consumption', 'share_global_cement_co2', 'share_global_co2', 'share_global_co2_including_luc', 'share_global_coal_co2', 'share_global_cumulative_cement_co2', 'share_global_cumulative_co2', 'share_global_cumulative_co2_including_luc', 'share_global_cumulative_coal_co2', 'share_global_cumulative_flaring_co2', 'share_global_cumulative_gas_co2', 'share_global_cumulative_luc_co2', 'share_global_cumulative_oil_co2', 'share_global_cumulative_other_co2', 'share_global_flaring_co2', 'share_global_gas_co2', 'share_global_luc_co2', 'share_global_oil_co2', 'share_global_other_co2', 'share_of_temperature_change_from_ghg', 'temperature_change_from_ch4', 'temperature_change_from_co2', 'temperature_change_from_ghg', 'temperature_change_from_n2o', 'total_ghg', 'total_ghg_excluding_lucf', 'trade_co2', 'trade_co2_share']\n",
      "\n",
      "Columns used: ['country', 'iso_code', 'year', 'co2', 'co2_per_capita', 'total_ghg', 'ghg_per_capita', 'coal_co2', 'oil_co2', 'gas_co2', 'cement_co2', 'flaring_co2', 'population', 'gdp']\n"
     ]
    }
   ],
   "source": [
    "# Load data\n",
    "csv_path = ensure_dataset()\n",
    "df = pd.read_csv(csv_path, low_memory=False)\n",
    "\n",
    "print(\"\\nColumns available (sample):\")\n",
    "print(df.columns.tolist())\n",
    "\n",
    "# Keep relevant columns (guard for existence)\n",
    "cols_keep = [\n",
    "    \"country\", \"iso_code\", \"year\",\n",
    "    \"co2\", \"co2_per_capita\",\n",
    "    \"total_ghg\", \"ghg_per_capita\",  # optional\n",
    "    \"coal_co2\", \"oil_co2\", \"gas_co2\",\n",
    "    \"cement_co2\", \"flaring_co2\",\n",
    "    \"population\", \"gdp\"\n",
    "]\n",
    "# Filter available columns\n",
    "cols_present = [c for c in cols_keep if c in df.columns]\n",
    "print(\"\\nColumns used:\", cols_present)\n",
    "\n",
    "df = df[[\"country\", \"iso_code\", \"year\"] + cols_present[3:]].copy()"
   ]
  },
  {
   "cell_type": "code",
   "execution_count": 8,
   "id": "d1582026",
   "metadata": {},
   "outputs": [
    {
     "name": "stdout",
     "output_type": "stream",
     "text": [
      "\n",
      "Rows (countries only): 42262\n"
     ]
    }
   ],
   "source": [
    "# Basic cleaning\n",
    "# Filter out aggregate entities (regions) - OWID has entities like 'World' and regions; keep only iso_code that are 3-letter country codes\n",
    "# iso_code for countries is usually 3 letters, while regions often have NaN\n",
    "df_countries = df[df[\"iso_code\"].apply(lambda x: isinstance(x, str) and len(x) == 3)].copy()\n",
    "print(f\"\\nRows (countries only): {len(df_countries)}\")\n"
   ]
  },
  {
   "cell_type": "code",
   "execution_count": 9,
   "id": "a5a38f13",
   "metadata": {},
   "outputs": [
    {
     "name": "stdout",
     "output_type": "stream",
     "text": [
      "\n",
      "Missing values (key cols):\n",
      "year                  0\n",
      "co2               19069\n",
      "co2_per_capita    19491\n",
      "population         4046\n",
      "dtype: int64\n"
     ]
    }
   ],
   "source": [
    "# Convert numeric columns\n",
    "numeric_cols = [c for c in df_countries.columns if c not in [\"country\", \"iso_code\", \"year\"]]\n",
    "df_countries[numeric_cols] = df_countries[numeric_cols].apply(pd.to_numeric, errors=\"coerce\")\n",
    "\n",
    "# Basic missing-value report for key columns\n",
    "print(\"\\nMissing values (key cols):\")\n",
    "print(df_countries[[\"year\", \"co2\", \"co2_per_capita\", \"population\"]].isna().sum())\n"
   ]
  },
  {
   "cell_type": "code",
   "execution_count": 10,
   "id": "a0494296",
   "metadata": {},
   "outputs": [],
   "source": [
    "# Derived columns\n",
    "# If co2_per_capita missing but co2 and population available, compute it\n",
    "mask = df_countries[\"co2_per_capita\"].isna() & df_countries[\"co2\"].notna() & df_countries[\"population\"].notna()\n",
    "if mask.any():\n",
    "    df_countries.loc[mask, \"co2_per_capita\"] = df_countries.loc[mask, \"co2\"] / df_countries.loc[mask, \"population\"]\n",
    "\n",
    "# Create per-capita normalized columns for coal/oil/gas if available\n",
    "for src in [\"coal_co2\", \"oil_co2\", \"gas_co2\"]:\n",
    "    if src in df_countries.columns:\n",
    "        percap_col = f\"{src}_per_capita\"\n",
    "        df_countries[percap_col] = df_countries[src] / df_countries[\"population\"]\n"
   ]
  },
  {
   "cell_type": "code",
   "execution_count": 11,
   "id": "0c3fa00c",
   "metadata": {},
   "outputs": [
    {
     "name": "stdout",
     "output_type": "stream",
     "text": [
      "\n",
      "Top 10 emitters in 2020:\n",
      "              country        co2\n",
      "9882           China  10905.693\n",
      "47796  United States   4714.628\n",
      "21655          India   2421.552\n",
      "38154         Russia   1632.929\n",
      "23729          Japan   1040.483\n",
      "22585           Iran    756.606\n",
      "18227        Germany    648.357\n",
      "40117   Saudi Arabia    616.086\n",
      "21829      Indonesia    608.223\n",
      "42852    South Korea    597.634\n"
     ]
    }
   ],
   "source": [
    "# Analysis: top emitters in recent year and over time\n",
    "# Choose baseline years for comparison (hint suggested 1990 vs 2020)\n",
    "year_a = 1990\n",
    "year_b = 2020\n",
    "\n",
    "# Helper to get top N by total CO2 in a given year\n",
    "def top_n_emitters(year, n=10):\n",
    "    sub = df_countries[df_countries[\"year\"] == year]\n",
    "    sub = sub.dropna(subset=[\"co2\"])\n",
    "    return sub.sort_values(\"co2\", ascending=False).head(n)\n",
    "\n",
    "top10_2020 = top_n_emitters(year_b, n=10)\n",
    "print(f\"\\nTop 10 emitters in {year_b}:\\n\", top10_2020[[\"country\", \"co2\"]])"
   ]
  },
  {
   "cell_type": "code",
   "execution_count": 12,
   "id": "b33c14dd",
   "metadata": {},
   "outputs": [
    {
     "name": "stdout",
     "output_type": "stream",
     "text": [
      "\n",
      "Comparison 1990 vs 2020 for top 2020 emitters:\n",
      " year           co2_1990   co2_2020  absolute_change  percent_change\n",
      "country                                                            \n",
      "China          2484.855  10905.693         8420.838      338.886494\n",
      "United States  5120.957   4714.628         -406.329       -7.934630\n",
      "India           577.996   2421.552         1843.556      318.956533\n",
      "Russia         2536.248   1632.929         -903.319      -35.616351\n",
      "Japan          1157.393   1040.483         -116.910      -10.101150\n",
      "Iran            211.075    756.606          545.531      258.453630\n",
      "Germany        1054.796    648.357         -406.439      -38.532475\n",
      "Saudi Arabia    182.025    616.086          434.061      238.462299\n",
      "Indonesia       155.081    608.223          453.142      292.196981\n",
      "South Korea     250.511    597.634          347.123      138.565971\n"
     ]
    }
   ],
   "source": [
    "# Compare 1990 vs 2020 for top countries of 2020\n",
    "countries_of_interest = top10_2020[\"country\"].tolist()\n",
    "cmp_df = df_countries[df_countries[\"country\"].isin(countries_of_interest) & df_countries[\"year\"].isin([year_a, year_b])]\n",
    "pivot_cmp = cmp_df.pivot(index=\"country\", columns=\"year\", values=\"co2\")\n",
    "pivot_cmp = pivot_cmp.rename(columns={year_a: f\"co2_{year_a}\", year_b: f\"co2_{year_b}\"})\n",
    "pivot_cmp[\"absolute_change\"] = pivot_cmp[f\"co2_{year_b}\"] - pivot_cmp[f\"co2_{year_a}\"]\n",
    "# compute percent change carefully\n",
    "pivot_cmp[\"percent_change\"] = (pivot_cmp[f\"co2_{year_b}\"] - pivot_cmp[f\"co2_{year_a}\"]) / pivot_cmp[f\"co2_{year_a}\"] * 100\n",
    "pivot_cmp = pivot_cmp.sort_values(f\"co2_{year_b}\", ascending=False)\n",
    "print(f\"\\nComparison {year_a} vs {year_b} for top 2020 emitters:\\n\", pivot_cmp[[\n",
    "    f\"co2_{year_a}\", f\"co2_{year_b}\", \"absolute_change\", \"percent_change\"\n",
    "]])"
   ]
  },
  {
   "cell_type": "code",
   "execution_count": 13,
   "id": "112b4fb8",
   "metadata": {},
   "outputs": [],
   "source": [
    "# Save comparison CSV\n",
    "pivot_cmp.to_csv(OUT_DIR / f\"co2_{year_a}_vs_{year_b}_top10.csv\")\n"
   ]
  },
  {
   "cell_type": "code",
   "execution_count": 14,
   "id": "1f864492",
   "metadata": {},
   "outputs": [
    {
     "name": "stdout",
     "output_type": "stream",
     "text": [
      "\n",
      "Top 10 CAGR between 1990 and 2020 (by CO2):\n",
      "                country  value_start  value_end      cagr\n",
      "61   Equatorial Guinea        0.062      6.411  0.167216\n",
      "102               Laos        0.513     19.492  0.128906\n",
      "129              Nepal        0.721     15.632  0.107990\n",
      "204            Vietnam       21.299    362.460  0.099082\n",
      "116               Mali        0.422      6.448  0.095142\n",
      "34            Cambodia        1.260     19.034  0.094726\n",
      "115           Maldives        0.172      1.678  0.078886\n",
      "21               Benin        0.579      5.518  0.078045\n",
      "32        Burkina Faso        0.590      5.377  0.076439\n",
      "151              Qatar       11.411    102.501  0.075920\n"
     ]
    }
   ],
   "source": [
    "# Growth rates (CAGR) from 1990 to 2020\n",
    "def compute_cagr(df_in, start_year, end_year, value_col=\"co2\"):\n",
    "    # df_in must contain rows for start_year and end_year for each country\n",
    "    groups = []\n",
    "    for c, g in df_in.groupby(\"country\"):\n",
    "        try:\n",
    "            v0 = g.loc[g[\"year\"] == start_year, value_col].values\n",
    "            v1 = g.loc[g[\"year\"] == end_year, value_col].values\n",
    "            if len(v0) == 1 and len(v1) == 1 and v0[0] > 0 and not np.isnan(v0[0]) and not np.isnan(v1[0]):\n",
    "                years = end_year - start_year\n",
    "                cagr = (v1[0] / v0[0]) ** (1 / years) - 1\n",
    "                groups.append({\"country\": c, \"value_start\": v0[0], \"value_end\": v1[0], \"cagr\": cagr})\n",
    "        except Exception:\n",
    "            continue\n",
    "    return pd.DataFrame(groups).sort_values(\"cagr\", ascending=False)\n",
    "\n",
    "cagr_df = compute_cagr(df_countries, year_a, year_b, value_col=\"co2\")\n",
    "cagr_df.to_csv(OUT_DIR / f\"cagr_co2_{year_a}_{year_b}.csv\", index=False)\n",
    "print(f\"\\nTop 10 CAGR between {year_a} and {year_b} (by CO2):\\n\", cagr_df.head(10))"
   ]
  },
  {
   "cell_type": "code",
   "execution_count": 15,
   "id": "596f14f2",
   "metadata": {},
   "outputs": [],
   "source": [
    "# Rolling averages for trend smoothing\n",
    "# We'll compute a 5-year rolling mean per country for co2 and co2_per_capita\n",
    "rolling_window = 5\n",
    "df_countries_sorted = df_countries.sort_values([\"country\", \"year\"]).copy()\n",
    "df_countries_sorted[\"co2_rolling\"] = df_countries_sorted.groupby(\"country\")[\"co2\"].transform(lambda x: x.rolling(window=rolling_window, min_periods=1).mean())\n",
    "df_countries_sorted[\"co2_per_capita_rolling\"] = df_countries_sorted.groupby(\"country\")[\"co2_per_capita\"].transform(lambda x: x.rolling(window=rolling_window, min_periods=1).mean())\n"
   ]
  },
  {
   "cell_type": "code",
   "execution_count": 16,
   "id": "29bb235d",
   "metadata": {},
   "outputs": [],
   "source": [
    "# Visualizations\n",
    "\n",
    "sns.set(style=\"whitegrid\", context=\"talk\")\n",
    "plt.rcParams.update({\"figure.autolayout\": True})\n",
    "\n"
   ]
  },
  {
   "cell_type": "code",
   "execution_count": 17,
   "id": "21f485f1",
   "metadata": {},
   "outputs": [
    {
     "name": "stdout",
     "output_type": "stream",
     "text": [
      "Saved image: /Users/karimhasabelnaby/Documents/MkAI_intern/third_project/outputs/images/top_10_emitters_over_time.png\n"
     ]
    }
   ],
   "source": [
    "# 1) Line chart: top N emitters over time (absolute CO2)\n",
    "top_n = 10\n",
    "top_countries_latest = df_countries[df_countries[\"year\"] == year_b].sort_values(\"co2\", ascending=False).head(top_n)[\"country\"].tolist()\n",
    "fig, ax = plt.subplots(figsize=(12, 6))\n",
    "for c in top_countries_latest:\n",
    "    tmp = df_countries_sorted[df_countries_sorted[\"country\"] == c]\n",
    "    ax.plot(tmp[\"year\"], tmp[\"co2_rolling\"], label=c)\n",
    "ax.set_title(f\"Top {top_n} CO2 Emitters Over Time (Rolling {rolling_window}-yr avg)\")\n",
    "ax.set_xlabel(\"Year\")\n",
    "ax.set_ylabel(\"CO2 emissions (million tonnes)\")  # units as in OWID\n",
    "ax.legend(loc=\"upper left\", bbox_to_anchor=(1.02, 1))\n",
    "savefig(fig, f\"top_{top_n}_emitters_over_time.png\")\n",
    "plt.close(fig)"
   ]
  },
  {
   "cell_type": "code",
   "execution_count": 18,
   "id": "32d4d194",
   "metadata": {},
   "outputs": [
    {
     "name": "stdout",
     "output_type": "stream",
     "text": [
      "Saved image: /Users/karimhasabelnaby/Documents/MkAI_intern/third_project/outputs/images/top_10_percapita_over_time.png\n"
     ]
    }
   ],
   "source": [
    "# 2) Line chart: per-capita CO2 for top per-capita countries (choose top 10 by per-capita in latest year)\n",
    "if \"co2_per_capita\" in df_countries.columns:\n",
    "    top_pc = df_countries[df_countries[\"year\"] == year_b].sort_values(\"co2_per_capita\", ascending=False).head(top_n)[\"country\"].tolist()\n",
    "    fig, ax = plt.subplots(figsize=(12, 6))\n",
    "    for c in top_pc:\n",
    "        tmp = df_countries_sorted[df_countries_sorted[\"country\"] == c]\n",
    "        ax.plot(tmp[\"year\"], tmp[\"co2_per_capita_rolling\"], label=c)\n",
    "    ax.set_title(f\"Top {top_n} CO2 per-capita Countries Over Time (Rolling {rolling_window}-yr avg)\")\n",
    "    ax.set_xlabel(\"Year\")\n",
    "    ax.set_ylabel(\"CO2 per capita (tonnes per person)\")\n",
    "    ax.legend(loc=\"upper left\", bbox_to_anchor=(1.02, 1))\n",
    "    savefig(fig, f\"top_{top_n}_percapita_over_time.png\")\n",
    "    plt.close(fig)\n"
   ]
  },
  {
   "cell_type": "code",
   "execution_count": 19,
   "id": "90f89c61",
   "metadata": {},
   "outputs": [
    {
     "name": "stdout",
     "output_type": "stream",
     "text": [
      "Saved image: /Users/karimhasabelnaby/Documents/MkAI_intern/third_project/outputs/images/heatmap_co2_percapita_top20_2020.png\n"
     ]
    }
   ],
   "source": [
    "# 3) Heatmap: countries x year (CO2 per capita) for a selected set (top 20 by latest co2)\n",
    "top20 = df_countries[df_countries[\"year\"] == year_b].sort_values(\"co2\", ascending=False).head(20)[\"country\"].tolist()\n",
    "heat_df = df_countries_sorted[df_countries_sorted[\"country\"].isin(top20)].pivot(index=\"country\", columns=\"year\", values=\"co2_per_capita\")\n",
    "fig, ax = plt.subplots(figsize=(14, 8))\n",
    "sns.heatmap(heat_df, cmap=\"YlOrRd\", robust=True, ax=ax)\n",
    "ax.set_title(f\"CO2 per capita (tonnes) — Top 20 emitters in {year_b}\")\n",
    "savefig(fig, f\"heatmap_co2_percapita_top20_{year_b}.png\")\n",
    "plt.close(fig)"
   ]
  },
  {
   "cell_type": "code",
   "execution_count": 20,
   "id": "d2c8763c",
   "metadata": {},
   "outputs": [
    {
     "name": "stdout",
     "output_type": "stream",
     "text": [
      "Saved image: /Users/karimhasabelnaby/Documents/MkAI_intern/third_project/outputs/images/co2_1990_vs_2020_bar_top10.png\n"
     ]
    }
   ],
   "source": [
    "# 4) Bar chart: compare 1990 vs 2020 CO2 for top 10 emitters\n",
    "cmp_plot = pivot_cmp[[f\"co2_{year_a}\", f\"co2_{year_b}\", \"absolute_change\"]].dropna()\n",
    "cmp_plot_sorted = cmp_plot.sort_values(f\"co2_{year_b}\", ascending=False)\n",
    "fig, ax = plt.subplots(figsize=(12, 6))\n",
    "width = 0.35\n",
    "indices = np.arange(len(cmp_plot_sorted))\n",
    "ax.bar(indices - width/2, cmp_plot_sorted[f\"co2_{year_a}\"], width=width, label=str(year_a))\n",
    "ax.bar(indices + width/2, cmp_plot_sorted[f\"co2_{year_b}\"], width=width, label=str(year_b))\n",
    "ax.set_xticks(indices)\n",
    "ax.set_xticklabels(cmp_plot_sorted.index, rotation=45, ha=\"right\")\n",
    "ax.set_ylabel(\"CO2 emissions (million tonnes)\")\n",
    "ax.set_title(f\"CO2 in {year_a} vs {year_b} — Top {len(cmp_plot_sorted)} 2020 Emitters\")\n",
    "ax.legend()\n",
    "savefig(fig, f\"co2_{year_a}_vs_{year_b}_bar_top10.png\")\n",
    "plt.close(fig)"
   ]
  },
  {
   "cell_type": "code",
   "execution_count": 21,
   "id": "f9694880",
   "metadata": {},
   "outputs": [
    {
     "name": "stdout",
     "output_type": "stream",
     "text": [
      "Saved image: /Users/karimhasabelnaby/Documents/MkAI_intern/third_project/outputs/images/global_by_source_area.png\n"
     ]
    }
   ],
   "source": [
    "# 5) Stacked area / contributions by source for the world or specific country (if source columns exist)\n",
    "source_cols = [c for c in [\"coal_co2\", \"oil_co2\", \"gas_co2\", \"cement_co2\", \"flaring_co2\"] if c in df_countries.columns]\n",
    "if source_cols:\n",
    "    # Example: world totals over time\n",
    "    world = df[df[\"country\"] == \"World\"] if \"World\" in df[\"country\"].values else None\n",
    "    # fallback: aggregate across countries\n",
    "    agg = df_countries.groupby(\"year\")[source_cols].sum()\n",
    "    fig, ax = plt.subplots(figsize=(12, 6))\n",
    "    agg.plot.area(ax=ax)\n",
    "    ax.set_title(\"Global CO2 Emissions by Source Over Time (aggregate of countries)\")\n",
    "    ax.set_xlabel(\"Year\")\n",
    "    ax.set_ylabel(\"CO2 emissions (million tonnes)\")\n",
    "    savefig(fig, \"global_by_source_area.png\")\n",
    "    plt.close(fig)\n"
   ]
  },
  {
   "cell_type": "code",
   "execution_count": 22,
   "id": "b607c385",
   "metadata": {},
   "outputs": [
    {
     "name": "stdout",
     "output_type": "stream",
     "text": [
      "Saved image: /Users/karimhasabelnaby/Documents/MkAI_intern/third_project/outputs/images/source_corr_2020.png\n"
     ]
    }
   ],
   "source": [
    "# 6) Correlation heatmap for sources (for recent year)\n",
    "recent = df_countries[df_countries[\"year\"] == year_b]\n",
    "if not recent.empty and len(source_cols) >= 2:\n",
    "    corr = recent[source_cols].corr()\n",
    "    fig, ax = plt.subplots(figsize=(6, 5))\n",
    "    sns.heatmap(corr, annot=True, cmap=\"coolwarm\", ax=ax)\n",
    "    ax.set_title(f\"Correlation between emission sources ({year_b})\")\n",
    "    savefig(fig, f\"source_corr_{year_b}.png\")\n",
    "    plt.close(fig)"
   ]
  },
  {
   "cell_type": "code",
   "execution_count": 23,
   "id": "b738dece",
   "metadata": {},
   "outputs": [
    {
     "name": "stdout",
     "output_type": "stream",
     "text": [
      "Note: 'continent' column not found in dataset; skipping continent plot.\n"
     ]
    }
   ],
   "source": [
    "# Multi-index grouping example: region-level aggregation\n",
    "# OWID does not always include 'region' column. If present, use it; else group by continent using iso_code -> optional.\n",
    "if \"continent\" in df_countries.columns:\n",
    "    region_col = \"continent\"\n",
    "    region_agg = df_countries.groupby([region_col, \"year\"])[\"co2\"].sum().unstack(level=0).fillna(0)\n",
    "    fig, ax = plt.subplots(figsize=(12, 6))\n",
    "    region_agg.plot(ax=ax)\n",
    "    ax.set_title(\"CO2 Emissions by Continent Over Time\")\n",
    "    savefig(fig, \"co2_by_continent.png\")\n",
    "    plt.close(fig)\n",
    "else:\n",
    "    print(\"Note: 'continent' column not found in dataset; skipping continent plot.\")\n"
   ]
  },
  {
   "cell_type": "code",
   "execution_count": 24,
   "id": "6a8868d2",
   "metadata": {},
   "outputs": [
    {
     "name": "stdout",
     "output_type": "stream",
     "text": [
      "\n",
      "Saved cleaned countries dataset: /Users/karimhasabelnaby/Documents/MkAI_intern/third_project/outputs/owid_co2_cleaned.csv\n",
      "Saved rolling dataset: /Users/karimhasabelnaby/Documents/MkAI_intern/third_project/outputs/owid_co2_with_rolling.csv\n",
      "\n",
      "Done. Outputs saved to: /Users/karimhasabelnaby/Documents/MkAI_intern/third_project/outputs\n",
      "Images saved to: /Users/karimhasabelnaby/Documents/MkAI_intern/third_project/outputs/images\n"
     ]
    }
   ],
   "source": [
    "# Save cleaned dataset & selected outputs\n",
    "clean_path = OUT_DIR / \"owid_co2_cleaned.csv\"\n",
    "df_countries.to_csv(clean_path, index=False)\n",
    "print(f\"\\nSaved cleaned countries dataset: {clean_path}\")\n",
    "\n",
    "# Save rolling dataset\n",
    "rolling_out = OUT_DIR / \"owid_co2_with_rolling.csv\"\n",
    "df_countries_sorted.to_csv(rolling_out, index=False)\n",
    "print(f\"Saved rolling dataset: {rolling_out}\")\n",
    "\n",
    "print(\"\\nDone. Outputs saved to:\", OUT_DIR)\n",
    "print(\"Images saved to:\", IMG_DIR)"
   ]
  },
  {
   "cell_type": "code",
   "execution_count": null,
   "id": "5cca53d2",
   "metadata": {},
   "outputs": [],
   "source": []
  }
 ],
 "metadata": {
  "kernelspec": {
   "display_name": "base",
   "language": "python",
   "name": "python3"
  },
  "language_info": {
   "codemirror_mode": {
    "name": "ipython",
    "version": 3
   },
   "file_extension": ".py",
   "mimetype": "text/x-python",
   "name": "python",
   "nbconvert_exporter": "python",
   "pygments_lexer": "ipython3",
   "version": "3.13.5"
  }
 },
 "nbformat": 4,
 "nbformat_minor": 5
}
